{
 "cells": [
  {
   "cell_type": "code",
   "execution_count": null,
   "metadata": {
    "id": "lx0NhijcOevg"
   },
   "outputs": [],
   "source": [
    "import os\n",
    "import cv2\n",
    "\n",
    "import numpy as np\n",
    "import pandas as pd\n",
    "\n",
    "from sklearn.model_selection import train_test_split,  cross_val_score\n",
    "from sklearn.discriminant_analysis import LinearDiscriminantAnalysis\n",
    "from sklearn.metrics import accuracy_score, confusion_matrix, classification_report\n",
    "from sklearn.ensemble import ExtraTreesClassifier\n",
    "from sklearn.naive_bayes import GaussianNB\n",
    "from skimage.feature import local_binary_pattern\n",
    "from sklearn.linear_model import LogisticRegression\n",
    "from sklearn.neighbors import KNeighborsClassifier\n",
    "from sklearn.linear_model import RidgeClassifier\n",
    "from sklearn.decomposition import PCA\n",
    "\n",
    "import matplotlib.pyplot as plt\n",
    "\n",
    "import re\n",
    "\n",
    "import seaborn as sns\n",
    "\n",
    "from keras.preprocessing import image\n",
    "from keras.models import Model\n",
    "from keras.applications.vgg16 import VGG16, preprocess_input\n",
    "from keras.applications.resnet import ResNet152, preprocess_input\n",
    "from keras.applications.inception_resnet_v2 import InceptionResNetV2, preprocess_input\n",
    "from keras.applications.nasnet import NASNetLarge, preprocess_input\n",
    "from keras.applications.efficientnet_v2 import EfficientNetV2L, preprocess_input\n",
    "from keras.applications.efficientnet import EfficientNetB0, preprocess_input\n",
    "from keras.applications.efficientnet import EfficientNetB7, preprocess_input\n",
    "from google.colab import drive\n",
    "\n",
    "from PIL import Image\n",
    "\n",
    "from pycaret.classification import *\n",
    "\n",
    "import random"
   ]
  },
  {
   "cell_type": "code",
   "execution_count": null,
   "metadata": {},
   "outputs": [],
   "source": [
    "pip install pycaret"
   ]
  },
  {
   "cell_type": "code",
   "execution_count": null,
   "metadata": {
    "colab": {
     "base_uri": "https://localhost:8080/"
    },
    "id": "Y3SSOtUEO15B",
    "outputId": "b72a965f-8b4d-4aa8-a005-a3c072e96fbb"
   },
   "outputs": [],
   "source": [
    "drive.mount(\"/content/drive\", force_remount=True)"
   ]
  },
  {
   "cell_type": "code",
   "execution_count": null,
   "metadata": {
    "id": "J9bsVHg0O6SL"
   },
   "outputs": [],
   "source": [
    "base_adr = './drive/MyDrive/'"
   ]
  },
  {
   "cell_type": "code",
   "execution_count": null,
   "metadata": {
    "id": "UjR62VjKPE4f"
   },
   "outputs": [],
   "source": [
    "df = pd.read_csv(base_adr + 'leaves.csv', header=None)"
   ]
  },
  {
   "cell_type": "code",
   "execution_count": null,
   "metadata": {
    "colab": {
     "base_uri": "https://localhost:8080/",
     "height": 423
    },
    "id": "afHL-jAtPGVM",
    "outputId": "d07d735a-2020-4dc4-f958-72ee5c10a3c5"
   },
   "outputs": [],
   "source": [
    "df"
   ]
  },
  {
   "cell_type": "code",
   "execution_count": null,
   "metadata": {
    "id": "Ufg4sfF-PHph"
   },
   "outputs": [],
   "source": [
    "# If you have specific column names, you can add them here\n",
    "column_names = ['target', 1, 2, 3, 4, 5, 6, 7, 8, 9, 10, 11, 12, 13, 14, 15]\n",
    "df.columns = column_names"
   ]
  },
  {
   "cell_type": "code",
   "execution_count": null,
   "metadata": {
    "colab": {
     "base_uri": "https://localhost:8080/"
    },
    "id": "jC6v28D0PVf_",
    "outputId": "7b1810d8-fd55-4477-b947-741bb59f9e3c"
   },
   "outputs": [],
   "source": [
    "len(df['target'].value_counts())"
   ]
  },
  {
   "cell_type": "code",
   "execution_count": null,
   "metadata": {
    "colab": {
     "base_uri": "https://localhost:8080/",
     "height": 423
    },
    "id": "bmrGPQCqPW8F",
    "outputId": "d341138d-0ae0-4286-c4ea-e2ecc395dd10"
   },
   "outputs": [],
   "source": [
    "df"
   ]
  },
  {
   "cell_type": "code",
   "execution_count": null,
   "metadata": {
    "id": "4_gt0Y4cPYeX"
   },
   "outputs": [],
   "source": [
    "def sort_files_numerically(files):\n",
    "    def extract_file_number(file_name):\n",
    "        match = re.search(r\"EX(\\d+)\", file_name)\n",
    "        if match:\n",
    "            return int(match.group(1))\n",
    "        else:\n",
    "            return float('inf')  # Handle cases where the pattern is not found\n",
    "    return sorted(files, key=extract_file_number)"
   ]
  },
  {
   "cell_type": "code",
   "execution_count": null,
   "metadata": {
    "id": "B05qY7lvPb5w"
   },
   "outputs": [],
   "source": [
    "# Load EfficientNetB7 model pre-trained on ImageNet\n",
    "base_model = EfficientNetB7(weights='imagenet')\n",
    "# Select the layer from which you want to extract features.\n",
    "# Typically, this is one of the last fully connected layers.\n",
    "model = Model(inputs=base_model.input, outputs=base_model.get_layer('avg_pool').output)"
   ]
  },
  {
   "cell_type": "code",
   "execution_count": null,
   "metadata": {
    "id": "uoAUEhwBPjsD"
   },
   "outputs": [],
   "source": [
    "def extract_features(img_path):\n",
    "    # Load image with target size for ResNet152\n",
    "    img = image.load_img(img_path, target_size=(600, 600))\n",
    "    img_data = image.img_to_array(img)\n",
    "    img_data = np.expand_dims(img_data, axis=0)\n",
    "    img_data = preprocess_input(img_data)\n",
    "\n",
    "    # Extract features\n",
    "    resnet_features = model.predict(img_data)\n",
    "    return resnet_features"
   ]
  },
  {
   "cell_type": "code",
   "execution_count": null,
   "metadata": {
    "colab": {
     "base_uri": "https://localhost:8080/"
    },
    "id": "134DP7n6Pl11",
    "outputId": "8cf63aef-99b2-42a6-fee0-5df686291f3f"
   },
   "outputs": [],
   "source": [
    "# Directory containing your dataset images\n",
    "dataset_directory = base_adr + 'leaves'\n",
    "\n",
    "# List all directories and sort them numerically\n",
    "directories = [d for d in os.listdir(dataset_directory) if os.path.isdir(os.path.join(dataset_directory, d))]\n",
    "sorted_directories = sorted(directories, key=lambda x: int(x))\n",
    "\n",
    "lbp_features_list = []\n",
    "hist_features_list = []\n",
    "efficient_net_features_list = []\n",
    "photo_adrs = []\n",
    "\n",
    "# Iterate through sorted directories\n",
    "for dir_name in sorted_directories:\n",
    "    dir_path = os.path.join(dataset_directory, dir_name)\n",
    "    if os.path.isdir(dir_path):\n",
    "\n",
    "        # List all files in the directory and sort them numerically\n",
    "        files = [f for f in os.listdir(dir_path) if os.path.isfile(os.path.join(dir_path, f))]\n",
    "        sorted_files = sort_files_numerically(files)\n",
    "\n",
    "        # Iterate through sorted files\n",
    "        for image_name in sorted_files:\n",
    "            image_path = os.path.join(dir_path, image_name)\n",
    "            if image_path.endswith(('.JPG')):\n",
    "\n",
    "                #------------------------------------------------------------------------------------------\n",
    "                # Compute LBP\n",
    "\n",
    "                image_file = cv2.imread(image_path, cv2.IMREAD_GRAYSCALE)\n",
    "                image_file = cv2.resize(image_file, (256, 256))\n",
    "\n",
    "                P, R = 8, 1\n",
    "                lbp = local_binary_pattern(image_file, P, R, method=\"uniform\")\n",
    "\n",
    "                (hist, _) = np.histogram(lbp.ravel(), bins=np.arange(0, P + 3), range=(0, P + 2))\n",
    "\n",
    "                hist = hist.astype(\"float\")\n",
    "                hist /= (hist.sum() + 1e-6)\n",
    "                #------------------------------------------------------------------------------------------\n",
    "                # Compute Coloring Histogram\n",
    "                image_file = cv2.imread(image_path, cv2.COLOR_BGR2HSV)\n",
    "                hsv_image = cv2.cvtColor(image_file, cv2.COLOR_BGR2HSV)\n",
    "\n",
    "                bins=(8, 8, 8)\n",
    "                hist_h = cv2.calcHist([hsv_image], [0], None, [bins[0]], [0, 256])\n",
    "                hist_s = cv2.calcHist([hsv_image], [1], None, [bins[1]], [0, 256])\n",
    "                hist_v = cv2.calcHist([hsv_image], [2], None, [bins[2]], [0, 256])\n",
    "\n",
    "                hist_h = cv2.normalize(hist_h, hist_h).flatten()\n",
    "                hist_s = cv2.normalize(hist_s, hist_s).flatten()\n",
    "                hist_v = cv2.normalize(hist_v, hist_v).flatten()\n",
    "\n",
    "                hist_features = np.concatenate([hist_h, hist_s, hist_v])\n",
    "                #------------------------------------------------------------------------------------------\n",
    "                # Compute EfficientNetB7 features\n",
    "                efficient_net_features = extract_features(image_path)[0]\n",
    "                #------------------------------------------------------------------------------------------\n",
    "\n",
    "                lbp_features_list.append(hist)\n",
    "                hist_features_list.append(hist_features)\n",
    "                efficient_net_features_list.append(efficient_net_features)\n",
    "                photo_adrs.append(image_path)"
   ]
  },
  {
   "cell_type": "code",
   "execution_count": null,
   "metadata": {
    "id": "lPSV9KVAQ1CU"
   },
   "outputs": [],
   "source": [
    "efficient_net_features_df = pd.DataFrame(efficient_net_features_list)\n",
    "df_with_efficient_net = pd.concat([df, efficient_net_features_df], axis=1)"
   ]
  },
  {
   "cell_type": "code",
   "execution_count": null,
   "metadata": {
    "id": "SK9ucgXeRIEI"
   },
   "outputs": [],
   "source": [
    "lbp_features_df = pd.DataFrame(lbp_features_list)\n",
    "df_with_lbp = pd.concat([df_with_efficient_net, lbp_features_df], axis=1)"
   ]
  },
  {
   "cell_type": "code",
   "execution_count": null,
   "metadata": {
    "id": "lEeMIHZjRJ2N"
   },
   "outputs": [],
   "source": [
    "hist_features_df = pd.DataFrame(hist_features_list)\n",
    "df_with_hist = pd.concat([df_with_lbp, hist_features_df], axis=1)"
   ]
  },
  {
   "cell_type": "code",
   "execution_count": null,
   "metadata": {
    "id": "vH1IPtX0cXoy"
   },
   "outputs": [],
   "source": [
    "path_df = pd.DataFrame(photo_adrs)\n",
    "df_train = pd.concat([df_with_hist, path_df], axis=1)"
   ]
  },
  {
   "cell_type": "code",
   "execution_count": null,
   "metadata": {
    "id": "JZ-iLWx6RLZu"
   },
   "outputs": [],
   "source": [
    "# Function to make column names unique\n",
    "def make_column_names_unique(df):\n",
    "    unique_col = ['target']\n",
    "    for i in range(df.shape[1] - 1):\n",
    "      unique_col.append(i)\n",
    "\n",
    "    df.columns = unique_col\n",
    "    return df\n",
    "\n",
    "df_train = make_column_names_unique(df_train)"
   ]
  },
  {
   "cell_type": "code",
   "execution_count": null,
   "metadata": {
    "colab": {
     "base_uri": "https://localhost:8080/",
     "height": 443
    },
    "id": "r2d5RrclSWJ5",
    "outputId": "1c7559ef-8292-4dd9-bd2f-5a03cb1adeee"
   },
   "outputs": [],
   "source": [
    "df_train"
   ]
  },
  {
   "cell_type": "code",
   "execution_count": null,
   "metadata": {
    "id": "9GK7vIKtawOm"
   },
   "outputs": [],
   "source": [
    "df_train.to_csv('dfWithEfficientNetB7withPath.csv', sep='\\t', encoding='utf-8')"
   ]
  },
  {
   "cell_type": "code",
   "execution_count": null,
   "metadata": {
    "id": "xzTOadHnwEGn"
   },
   "outputs": [],
   "source": [
    "df_train = pd.read_csv('./dfWithEfficientNetB7withPath.csv', sep='\\t', encoding='utf-8', index_col=False)"
   ]
  },
  {
   "cell_type": "code",
   "execution_count": null,
   "metadata": {
    "colab": {
     "base_uri": "https://localhost:8080/",
     "height": 461
    },
    "id": "7m88esZEmArR",
    "outputId": "205968d1-7673-4b2f-c2bd-6e6942e4f553"
   },
   "outputs": [],
   "source": [
    "df_train"
   ]
  },
  {
   "cell_type": "code",
   "execution_count": null,
   "metadata": {
    "id": "H9trTB6ZU5I1"
   },
   "outputs": [],
   "source": [
    "df_train = df_train.drop(columns=['Unnamed: 0', '0'])"
   ]
  },
  {
   "cell_type": "code",
   "execution_count": null,
   "metadata": {
    "colab": {
     "base_uri": "https://localhost:8080/",
     "height": 443
    },
    "id": "IMkhreIWh8yA",
    "outputId": "1629620d-6703-474f-dcb0-e819ac9f5b46"
   },
   "outputs": [],
   "source": [
    "df_train"
   ]
  },
  {
   "cell_type": "markdown",
   "metadata": {
    "id": "Qb701gllJAVg"
   },
   "source": [
    "# **Clustering**"
   ]
  },
  {
   "cell_type": "code",
   "execution_count": null,
   "metadata": {
    "id": "bEQOaABhIkK1"
   },
   "outputs": [],
   "source": [
    "y = df_train['target']\n",
    "X = df_train.drop(columns=['target', '2609'])"
   ]
  },
  {
   "cell_type": "code",
   "execution_count": null,
   "metadata": {
    "colab": {
     "base_uri": "https://localhost:8080/",
     "height": 423
    },
    "id": "p1z9SiXqIkM9",
    "outputId": "11e9c22a-1f37-4155-b3c1-1c81da45c453"
   },
   "outputs": [],
   "source": [
    "X"
   ]
  },
  {
   "cell_type": "code",
   "execution_count": null,
   "metadata": {
    "id": "p2BvKUBQOx0W"
   },
   "outputs": [],
   "source": [
    "# Fit PCA to the data\n",
    "pca = PCA()\n",
    "pca.fit(X)\n",
    "\n",
    "# Get the explained variance ratio\n",
    "explained_variance_ratio = pca.explained_variance_ratio_"
   ]
  },
  {
   "cell_type": "code",
   "execution_count": null,
   "metadata": {
    "colab": {
     "base_uri": "https://localhost:8080/",
     "height": 562
    },
    "id": "CQjTiHNAOx3O",
    "outputId": "79a0ae81-1275-47ea-dbad-47e54bc3fbf8"
   },
   "outputs": [],
   "source": [
    "# Calculate cumulative explained variance\n",
    "cumulative_explained_variance = np.cumsum(explained_variance_ratio)\n",
    "\n",
    "# Plot the cumulative explained variance\n",
    "plt.figure(figsize=(8, 6))\n",
    "plt.plot(range(1, len(cumulative_explained_variance) + 1), cumulative_explained_variance, marker='o', linestyle='--')\n",
    "plt.xlabel('Number of Principal Components')\n",
    "plt.ylabel('Cumulative Explained Variance')\n",
    "plt.title('Explained Variance by Different Principal Components')\n",
    "plt.grid(True)\n",
    "plt.show()"
   ]
  },
  {
   "cell_type": "code",
   "execution_count": null,
   "metadata": {
    "id": "gXM-nfM5Pbk5"
   },
   "outputs": [],
   "source": [
    "# Fit PCA to the data\n",
    "pca = PCA(n_components=75)\n",
    "principal_components = pca.fit_transform(X)"
   ]
  },
  {
   "cell_type": "code",
   "execution_count": null,
   "metadata": {
    "colab": {
     "base_uri": "https://localhost:8080/"
    },
    "id": "GVaPEEMePhJV",
    "outputId": "9d535a1f-72b4-4ac6-9885-9e8d66ea7e36"
   },
   "outputs": [],
   "source": [
    "principal_components.shape"
   ]
  },
  {
   "cell_type": "code",
   "execution_count": null,
   "metadata": {
    "id": "9TcQFa06PhMO"
   },
   "outputs": [],
   "source": [
    "X_train, X_test, y_train, y_test = train_test_split(X, y, test_size=0.25)"
   ]
  },
  {
   "cell_type": "code",
   "execution_count": null,
   "metadata": {
    "id": "OEeoTIeeP6JW"
   },
   "outputs": [],
   "source": [
    "# Train a classifier on the transformed training set\n",
    "# For simplicity, let's use LDA itself as the classifier\n",
    "lda_classifier = LinearDiscriminantAnalysis()\n",
    "lda_classifier.fit(X_train, y_train)\n",
    "\n",
    "# Predict on the transformed test set\n",
    "y_pred = lda_classifier.predict(X_test)"
   ]
  },
  {
   "cell_type": "code",
   "execution_count": null,
   "metadata": {
    "colab": {
     "base_uri": "https://localhost:8080/"
    },
    "id": "2JLoNijLQDal",
    "outputId": "6b29a431-f53d-4e31-e18c-226a60f1c30c"
   },
   "outputs": [],
   "source": [
    "accuracy_score(y_pred, y_test)"
   ]
  },
  {
   "cell_type": "markdown",
   "metadata": {
    "id": "Vh2kCM05Ilr6"
   },
   "source": [
    "# **Classification**"
   ]
  },
  {
   "cell_type": "code",
   "execution_count": null,
   "metadata": {
    "id": "-B4qNqWEOf8O"
   },
   "outputs": [],
   "source": [
    "def LDA_dimension_reduction(df_final):\n",
    "    # Separate features and labels\n",
    "    X = df_final.drop('target', axis=1)\n",
    "    y = df_final['target'].values\n",
    "\n",
    "    # Split the dataset into training and testing sets\n",
    "    X_train, X_test, y_train, y_test = train_test_split(X, y, test_size=0.25)\n",
    "\n",
    "    X_train_photos = X_train['2609']\n",
    "    X_test_photos = X_test['2609']\n",
    "\n",
    "    X_train = X_train.drop('2609', axis=1).values\n",
    "    X_test = X_test.drop('2609', axis=1).values\n",
    "\n",
    "    # Initialize the LDA model\n",
    "    lda = LinearDiscriminantAnalysis(n_components=None)  # None means LDA will infer the number of components automatically\n",
    "\n",
    "    # Fit the LDA model\n",
    "    lda.fit(X_train, y_train)\n",
    "\n",
    "    # Transform the training and testing sets\n",
    "    X_train_lda = lda.transform(X_train)\n",
    "    X_test_lda = lda.transform(X_test)\n",
    "\n",
    "    return X_train_lda, X_test_lda, y_train, y_test, X_train_photos, X_test_photos"
   ]
  },
  {
   "cell_type": "code",
   "execution_count": null,
   "metadata": {
    "id": "6kvDpJKFRB8P"
   },
   "outputs": [],
   "source": [
    "def PCA_dimension_reduction(df_final):\n",
    "    # Separate features and labels\n",
    "    X = df_final.drop(columns=['target', '2609'])\n",
    "    y = df_final['target'].values\n",
    "    X_photos = df_final['2609']\n",
    "\n",
    "    # Fit PCA to the data\n",
    "    pca = PCA(n_components=75)\n",
    "    X_pca = pca.fit_transform(X)\n",
    "\n",
    "    # Create a DataFrame with the principal components\n",
    "    pca_df = pd.DataFrame(data=X_pca)\n",
    "    pca_df['photo'] = X_photos\n",
    "\n",
    "    # Split the dataset into training and testing sets\n",
    "    X_train, X_test, y_train, y_test = train_test_split(pca_df, y, test_size=0.25)\n",
    "\n",
    "    X_train_photos = X_train['photo']\n",
    "    X_test_photos = X_test['photo']\n",
    "\n",
    "    X_train = X_train.drop('photo', axis=1).values\n",
    "    X_test = X_test.drop('photo', axis=1).values\n",
    "\n",
    "    return X_train, X_test, y_train, y_test, X_train_photos, X_test_photos"
   ]
  },
  {
   "cell_type": "code",
   "execution_count": null,
   "metadata": {
    "id": "hG7bfrNaSt4o"
   },
   "outputs": [],
   "source": [
    "X_train, X_test, y_train, y_test, X_train_photos, X_test_photos = PCA_dimension_reduction(df_train)"
   ]
  },
  {
   "cell_type": "code",
   "execution_count": null,
   "metadata": {
    "id": "GvZtmKGOS77b"
   },
   "outputs": [],
   "source": []
  },
  {
   "cell_type": "code",
   "execution_count": null,
   "metadata": {
    "id": "_hDi6ePWzM9P"
   },
   "outputs": [],
   "source": [
    "X_train_lda, X_test_lda, y_train, y_test, X_train_photos, X_test_photos = LDA_dimension_reduction(df_train)"
   ]
  },
  {
   "cell_type": "code",
   "execution_count": null,
   "metadata": {
    "id": "Wlwn9RgIyg0s"
   },
   "outputs": [],
   "source": [
    "# Combine training data\n",
    "train_data = pd.DataFrame(X_train_lda)\n",
    "train_data['target'] = y_train"
   ]
  },
  {
   "cell_type": "code",
   "execution_count": null,
   "metadata": {
    "id": "cug--Vjeyg3D"
   },
   "outputs": [],
   "source": [
    "# Combine testing data\n",
    "test_data = pd.DataFrame(X_test_lda)\n",
    "test_data['target'] = y_test"
   ]
  },
  {
   "cell_type": "code",
   "execution_count": null,
   "metadata": {
    "id": "qKcWNXtAyg56"
   },
   "outputs": [],
   "source": [
    "# Combine both into a single DataFrame\n",
    "combined_data = pd.concat([train_data, test_data], axis=0)"
   ]
  },
  {
   "cell_type": "code",
   "execution_count": null,
   "metadata": {
    "colab": {
     "base_uri": "https://localhost:8080/"
    },
    "id": "uEq2_wPWzmvU",
    "outputId": "e33289a3-4cd5-4b31-bda9-505f0c625d9b"
   },
   "outputs": [],
   "source": [
    "combined_data.info()"
   ]
  },
  {
   "cell_type": "code",
   "execution_count": null,
   "metadata": {
    "id": "s_-nS-hL0IdW"
   },
   "outputs": [],
   "source": [
    "# Reset the index of the DataFrame\n",
    "combined_data = combined_data.reset_index(drop=True)"
   ]
  },
  {
   "cell_type": "code",
   "execution_count": null,
   "metadata": {
    "colab": {
     "base_uri": "https://localhost:8080/",
     "height": 443
    },
    "id": "U2LwAGQI0J28",
    "outputId": "be472c94-1ece-4f34-a53f-825a0f6a35dd"
   },
   "outputs": [],
   "source": [
    "combined_data"
   ]
  },
  {
   "cell_type": "code",
   "execution_count": null,
   "metadata": {
    "colab": {
     "base_uri": "https://localhost:8080/",
     "height": 676
    },
    "id": "b0nBmfi1zpYn",
    "outputId": "a624582d-524a-47e2-bb35-7f7477564e9b"
   },
   "outputs": [],
   "source": [
    "# Initialize the setup\n",
    "clf_setup = setup(data=combined_data, target='target')"
   ]
  },
  {
   "cell_type": "code",
   "execution_count": null,
   "metadata": {
    "colab": {
     "base_uri": "https://localhost:8080/",
     "height": 519,
     "referenced_widgets": [
      "a1b2fe2cfb434313b7cd44dc4a30ce56",
      "eb5a83784e7b401797f1bbff9e1a5b9d",
      "f749e7169095411eb0aafb8f17548bce",
      "efda661d41a9411fbdea0c9e182a07e4",
      "528d960cd299434ca9ada65c21dd9f54",
      "9fcf2a4f7c154cc0a7a1d90e64b76321",
      "08178486ea0f4da3ad07c051dcc1e223",
      "8759c34fad7e45f5ba3376c28d9ef32f",
      "bbbd363c3e804bd99b5daf0f15fc124c",
      "fa3ce14fe7d44e4db8c33948fd3e21b7",
      "7ac4d73199764122a2f9d1494f5bd106"
     ]
    },
    "id": "lFVquX5Ez3Jf",
    "outputId": "f83f9697-eeee-45fe-80f9-ee78dff4d7bb"
   },
   "outputs": [],
   "source": [
    "# Compare models and select the best one\n",
    "best_model = compare_models()"
   ]
  },
  {
   "cell_type": "code",
   "execution_count": null,
   "metadata": {
    "id": "ugWZ188g0_f8"
   },
   "outputs": [],
   "source": [
    "def logistic_regresion_model(X_train, X_test, y_train):\n",
    "    # Create and fit the Logistic Regression model\n",
    "    log_reg = LogisticRegression()\n",
    "    log_reg.fit(X_train, y_train)\n",
    "\n",
    "    # Make predictions on the test set\n",
    "    y_pred = log_reg.predict(X_test)\n",
    "\n",
    "    return log_reg, y_pred"
   ]
  },
  {
   "cell_type": "code",
   "execution_count": null,
   "metadata": {
    "id": "VRx795AS1CW7"
   },
   "outputs": [],
   "source": [
    "def LDA_model(X_train, X_test, y_train):\n",
    "    # Train a classifier on the transformed training set\n",
    "    # For simplicity, let's use LDA itself as the classifier\n",
    "    lda_classifier = LinearDiscriminantAnalysis()\n",
    "    lda_classifier.fit(X_train, y_train)\n",
    "\n",
    "    # Predict on the transformed test set\n",
    "    y_pred = lda_classifier.predict(X_test)\n",
    "\n",
    "    return lda_classifier, y_pred"
   ]
  },
  {
   "cell_type": "code",
   "execution_count": null,
   "metadata": {
    "id": "d6IgT0lr2Czn"
   },
   "outputs": [],
   "source": [
    "def extra_trees_model(X_train, X_test, y_train):\n",
    "  # Create and fit the Extra Trees Classifier model\n",
    "  extra_trees_clf = ExtraTreesClassifier(random_state=42)\n",
    "  extra_trees_clf.fit(X_train, y_train)\n",
    "\n",
    "  # Make predictions on the test set\n",
    "  y_pred = extra_trees_clf.predict(X_test)\n",
    "\n",
    "  return extra_trees_clf, y_pred"
   ]
  },
  {
   "cell_type": "code",
   "execution_count": null,
   "metadata": {
    "id": "lgubVsrgn6_g"
   },
   "outputs": [],
   "source": [
    "def ridge_model(X_train, X_test, y_train):\n",
    "  # Create and fit the Ridge Classifier model\n",
    "  ridge_clf = RidgeClassifier()\n",
    "  ridge_clf.fit(X_train, y_train)\n",
    "\n",
    "  # Make predictions on the test set\n",
    "  y_pred = ridge_clf.predict(X_test)\n",
    "\n",
    "  return ridge_clf, y_pred"
   ]
  },
  {
   "cell_type": "code",
   "execution_count": null,
   "metadata": {
    "id": "leTmYBhIsmwC"
   },
   "outputs": [],
   "source": [
    "def KNN_model(X_train, X_test, y_train, K):\n",
    "  # Create and fit the Extra Trees Classifier model\n",
    "  KNN_clf = KNeighborsClassifier(n_neighbors=K)\n",
    "  KNN_clf.fit(X_train, y_train)\n",
    "\n",
    "  # Make predictions on the test set\n",
    "  y_pred = KNN_clf.predict(X_test)\n",
    "\n",
    "  return KNN_clf, y_pred"
   ]
  },
  {
   "cell_type": "code",
   "execution_count": null,
   "metadata": {
    "id": "waJsQzg71Cdu"
   },
   "outputs": [],
   "source": [
    "def display_images_from_directory(directory_path, images_per_row=5):\n",
    "    # Get all image file paths from the directory\n",
    "    image_files = [os.path.join(directory_path, f) for f in os.listdir(directory_path) if f.endswith(('png', 'JPG', 'jpeg', 'gif', 'bmp'))]\n",
    "\n",
    "    # Number of images\n",
    "    n_images = len(image_files)\n",
    "\n",
    "    # Calculate the number of rows needed\n",
    "    n_rows = (n_images + images_per_row - 1) // images_per_row\n",
    "\n",
    "    # Create a figure with the appropriate number of subplots\n",
    "    fig, axes = plt.subplots(n_rows, images_per_row, figsize=(images_per_row * 3, n_rows * 3))\n",
    "\n",
    "    # Flatten axes for easy iteration\n",
    "    axes = axes.flatten()\n",
    "\n",
    "    for i, ax in enumerate(axes):\n",
    "        if i < n_images:\n",
    "            img = Image.open(image_files[i])\n",
    "            ax.imshow(img)\n",
    "            ax.axis('off')  # Hide the axes\n",
    "        else:\n",
    "            ax.axis('off')  # Hide the axes for empty subplots\n",
    "\n",
    "    plt.tight_layout()\n",
    "    plt.show()\n"
   ]
  },
  {
   "cell_type": "code",
   "execution_count": null,
   "metadata": {
    "id": "e1vrGFcirCCO"
   },
   "outputs": [],
   "source": [
    "def show_result(accuracy_scores):\n",
    "  # Calculate statistical measures\n",
    "  average_accuracy = np.mean(accuracy_scores)\n",
    "  variance_accuracy = np.var(accuracy_scores)\n",
    "  max_accuracy = np.max(accuracy_scores)\n",
    "  min_accuracy = np.min(accuracy_scores)\n",
    "  std_dev_accuracy = np.std(accuracy_scores)\n",
    "\n",
    "  # Print the statistical measures\n",
    "  print(f'Average Accuracy: {average_accuracy * 100:.2f}%')\n",
    "  print(f'Variance: {variance_accuracy:.4f}')\n",
    "  print(f'Max Accuracy: {max_accuracy * 100:.2f}%')\n",
    "  print(f'Min Accuracy: {min_accuracy * 100:.2f}%')\n",
    "  print(f'Standard Deviation: {std_dev_accuracy:.4f}')\n",
    "\n",
    "  # Plot the continuous distribution of accuracy scores\n",
    "  plt.figure(figsize=(10, 6))\n",
    "  sns.kdeplot(accuracy_scores, shade=True)\n",
    "  plt.title('Continuous Distribution of Accuracy Scores over 100 Iterations')\n",
    "  plt.xlabel('Accuracy')\n",
    "  plt.ylabel('Density')\n",
    "  plt.grid(True)\n",
    "  plt.show()"
   ]
  },
  {
   "cell_type": "code",
   "execution_count": null,
   "metadata": {
    "id": "3IB_vKad0tvO"
   },
   "outputs": [],
   "source": [
    "def mistake_analysis(y_pred, y_test, path):\n",
    "  print(f'True Label = {y_test}')\n",
    "  print(f'Predict Label = {y_pred}')\n",
    "\n",
    "  true_dir = base_adr + f'leaves/{y_test}'\n",
    "  pred_dir = base_adr + f'leaves/{y_pred}'\n",
    "\n",
    "  print('------------------------------------------------')\n",
    "\n",
    "  # Open the image using Pillow\n",
    "  img = Image.open(path)\n",
    "  # Display the image using Matplotlib\n",
    "  plt.imshow(img)\n",
    "  plt.axis('off')  # Hide the axis\n",
    "  plt.show()\n",
    "\n",
    "\n",
    "  print('------------------------------------------------')\n",
    "\n",
    "  print('True Class Images:')\n",
    "  display_images_from_directory(true_dir, 7)\n",
    "\n",
    "  print('------------------------------------------------')\n",
    "  print('Predict Class Images:')\n",
    "  display_images_from_directory(pred_dir, 7)\n",
    "\n",
    "  print('************************************************')"
   ]
  },
  {
   "cell_type": "code",
   "execution_count": null,
   "metadata": {
    "id": "kJU4U-X356Di"
   },
   "outputs": [],
   "source": [
    "def model_analysis(dimension_reduction, classifier, df_train, iteration):\n",
    "  ans = 0.0\n",
    "  accuracy_scores = []\n",
    "\n",
    "  for itr in range(iteration):\n",
    "    if dimension_reduction == 'LDA':\n",
    "      X_train, X_test, y_train, y_test, X_train_photos, X_test_photos = LDA_dimension_reduction(df_train)\n",
    "    elif dimension_reduction == 'PCA':\n",
    "      X_train, X_test, y_train, y_test, X_train_photos, X_test_photos = PCA_dimension_reduction(df_train)\n",
    "\n",
    "\n",
    "    if classifier == \"KNN\":\n",
    "      Ks = [3, 5, 7]\n",
    "      K = random.randint(0, 2)\n",
    "      model, y_pred = KNN_model(X_train, X_test, y_train, Ks[K])\n",
    "    elif classifier == \"ridge\":\n",
    "      model, y_pred = ridge_model(X_train, X_test, y_train)\n",
    "    elif classifier == \"logistic_regresion\":\n",
    "      model, y_pred = logistic_regresion_model(X_train, X_test, y_train)\n",
    "    elif classifier == \"LDA\":\n",
    "      model, y_pred = LDA_model(X_train, X_test, y_train)\n",
    "    elif classifier == \"extra_trees\":\n",
    "      model, y_pred = extra_trees_model(X_train, X_test, y_train)\n",
    "\n",
    "    accuracy_scores.append(accuracy_score(y_pred, y_test))\n",
    "    for i in range(len(y_pred)):\n",
    "      #if y_pred[i] != y_test[i]:\n",
    "      #  mistake_analysis(y_pred[i], y_test[i], X_test_photos.iloc[i])\n",
    "\n",
    "  show_result(accuracy_scores)"
   ]
  },
  {
   "cell_type": "code",
   "execution_count": null,
   "metadata": {
    "colab": {
     "base_uri": "https://localhost:8080/",
     "height": 443
    },
    "id": "N_jgHp5qT_qq",
    "outputId": "5b28270a-f22b-46de-e1a1-ff6c546f9365"
   },
   "outputs": [],
   "source": [
    "df_train"
   ]
  },
  {
   "cell_type": "code",
   "execution_count": null,
   "metadata": {
    "colab": {
     "base_uri": "https://localhost:8080/",
     "height": 1000
    },
    "id": "GVzN0DGn7dJI",
    "outputId": "3565a5c1-c048-451f-a62b-184f8d10bf34"
   },
   "outputs": [],
   "source": [
    "model_analysis('PCA', 'KNN', df_train, 3)"
   ]
  },
  {
   "cell_type": "code",
   "execution_count": null,
   "metadata": {
    "colab": {
     "base_uri": "https://localhost:8080/",
     "height": 1000
    },
    "id": "2AGzoKbVROBZ",
    "outputId": "d18d4754-cb24-4fb2-de89-16501a1a99e5"
   },
   "outputs": [],
   "source": [
    "model_analysis('ridge', df_train, 3)"
   ]
  },
  {
   "cell_type": "code",
   "execution_count": null,
   "metadata": {
    "colab": {
     "base_uri": "https://localhost:8080/",
     "height": 1000
    },
    "id": "74EgitQ0RSeB",
    "outputId": "55c7a52a-b5a1-49b9-f960-5bfa9b12651c"
   },
   "outputs": [],
   "source": [
    "model_analysis('logistic_regresion', df_train, 3)"
   ]
  },
  {
   "cell_type": "code",
   "execution_count": null,
   "metadata": {
    "id": "nNzsojEzR6TO"
   },
   "outputs": [],
   "source": [
    "model_analysis('PCA', 'LDA', df_train, 3)"
   ]
  },
  {
   "cell_type": "code",
   "execution_count": null,
   "metadata": {
    "colab": {
     "base_uri": "https://localhost:8080/",
     "height": 1000
    },
    "id": "uIPiNO821cCQ",
    "outputId": "148fc45d-9c4b-4d28-a63f-8727e14cabd6"
   },
   "outputs": [],
   "source": [
    "model_analysis('PCA', 'extra_trees', df_train, 3)"
   ]
  },
  {
   "cell_type": "code",
   "execution_count": null,
   "metadata": {
    "id": "ahXZ5-g5tGxR"
   },
   "outputs": [],
   "source": []
  }
 ],
 "metadata": {
  "colab": {
   "provenance": []
  },
  "kernelspec": {
   "display_name": "Python 3 (ipykernel)",
   "language": "python",
   "name": "python3"
  },
  "language_info": {
   "codemirror_mode": {
    "name": "ipython",
    "version": 3
   },
   "file_extension": ".py",
   "mimetype": "text/x-python",
   "name": "python",
   "nbconvert_exporter": "python",
   "pygments_lexer": "ipython3",
   "version": "3.10.13"
  },
  "widgets": {
   "application/vnd.jupyter.widget-state+json": {
    "08178486ea0f4da3ad07c051dcc1e223": {
     "model_module": "@jupyter-widgets/controls",
     "model_module_version": "1.5.0",
     "model_name": "DescriptionStyleModel",
     "state": {
      "_model_module": "@jupyter-widgets/controls",
      "_model_module_version": "1.5.0",
      "_model_name": "DescriptionStyleModel",
      "_view_count": null,
      "_view_module": "@jupyter-widgets/base",
      "_view_module_version": "1.2.0",
      "_view_name": "StyleView",
      "description_width": ""
     }
    },
    "528d960cd299434ca9ada65c21dd9f54": {
     "model_module": "@jupyter-widgets/base",
     "model_module_version": "1.2.0",
     "model_name": "LayoutModel",
     "state": {
      "_model_module": "@jupyter-widgets/base",
      "_model_module_version": "1.2.0",
      "_model_name": "LayoutModel",
      "_view_count": null,
      "_view_module": "@jupyter-widgets/base",
      "_view_module_version": "1.2.0",
      "_view_name": "LayoutView",
      "align_content": null,
      "align_items": null,
      "align_self": null,
      "border": null,
      "bottom": null,
      "display": null,
      "flex": null,
      "flex_flow": null,
      "grid_area": null,
      "grid_auto_columns": null,
      "grid_auto_flow": null,
      "grid_auto_rows": null,
      "grid_column": null,
      "grid_gap": null,
      "grid_row": null,
      "grid_template_areas": null,
      "grid_template_columns": null,
      "grid_template_rows": null,
      "height": null,
      "justify_content": null,
      "justify_items": null,
      "left": null,
      "margin": null,
      "max_height": null,
      "max_width": null,
      "min_height": null,
      "min_width": null,
      "object_fit": null,
      "object_position": null,
      "order": null,
      "overflow": null,
      "overflow_x": null,
      "overflow_y": null,
      "padding": null,
      "right": null,
      "top": null,
      "visibility": "hidden",
      "width": null
     }
    },
    "7ac4d73199764122a2f9d1494f5bd106": {
     "model_module": "@jupyter-widgets/controls",
     "model_module_version": "1.5.0",
     "model_name": "DescriptionStyleModel",
     "state": {
      "_model_module": "@jupyter-widgets/controls",
      "_model_module_version": "1.5.0",
      "_model_name": "DescriptionStyleModel",
      "_view_count": null,
      "_view_module": "@jupyter-widgets/base",
      "_view_module_version": "1.2.0",
      "_view_name": "StyleView",
      "description_width": ""
     }
    },
    "8759c34fad7e45f5ba3376c28d9ef32f": {
     "model_module": "@jupyter-widgets/base",
     "model_module_version": "1.2.0",
     "model_name": "LayoutModel",
     "state": {
      "_model_module": "@jupyter-widgets/base",
      "_model_module_version": "1.2.0",
      "_model_name": "LayoutModel",
      "_view_count": null,
      "_view_module": "@jupyter-widgets/base",
      "_view_module_version": "1.2.0",
      "_view_name": "LayoutView",
      "align_content": null,
      "align_items": null,
      "align_self": null,
      "border": null,
      "bottom": null,
      "display": null,
      "flex": null,
      "flex_flow": null,
      "grid_area": null,
      "grid_auto_columns": null,
      "grid_auto_flow": null,
      "grid_auto_rows": null,
      "grid_column": null,
      "grid_gap": null,
      "grid_row": null,
      "grid_template_areas": null,
      "grid_template_columns": null,
      "grid_template_rows": null,
      "height": null,
      "justify_content": null,
      "justify_items": null,
      "left": null,
      "margin": null,
      "max_height": null,
      "max_width": null,
      "min_height": null,
      "min_width": null,
      "object_fit": null,
      "object_position": null,
      "order": null,
      "overflow": null,
      "overflow_x": null,
      "overflow_y": null,
      "padding": null,
      "right": null,
      "top": null,
      "visibility": null,
      "width": null
     }
    },
    "9fcf2a4f7c154cc0a7a1d90e64b76321": {
     "model_module": "@jupyter-widgets/base",
     "model_module_version": "1.2.0",
     "model_name": "LayoutModel",
     "state": {
      "_model_module": "@jupyter-widgets/base",
      "_model_module_version": "1.2.0",
      "_model_name": "LayoutModel",
      "_view_count": null,
      "_view_module": "@jupyter-widgets/base",
      "_view_module_version": "1.2.0",
      "_view_name": "LayoutView",
      "align_content": null,
      "align_items": null,
      "align_self": null,
      "border": null,
      "bottom": null,
      "display": null,
      "flex": null,
      "flex_flow": null,
      "grid_area": null,
      "grid_auto_columns": null,
      "grid_auto_flow": null,
      "grid_auto_rows": null,
      "grid_column": null,
      "grid_gap": null,
      "grid_row": null,
      "grid_template_areas": null,
      "grid_template_columns": null,
      "grid_template_rows": null,
      "height": null,
      "justify_content": null,
      "justify_items": null,
      "left": null,
      "margin": null,
      "max_height": null,
      "max_width": null,
      "min_height": null,
      "min_width": null,
      "object_fit": null,
      "object_position": null,
      "order": null,
      "overflow": null,
      "overflow_x": null,
      "overflow_y": null,
      "padding": null,
      "right": null,
      "top": null,
      "visibility": null,
      "width": null
     }
    },
    "a1b2fe2cfb434313b7cd44dc4a30ce56": {
     "model_module": "@jupyter-widgets/controls",
     "model_module_version": "1.5.0",
     "model_name": "HBoxModel",
     "state": {
      "_dom_classes": [],
      "_model_module": "@jupyter-widgets/controls",
      "_model_module_version": "1.5.0",
      "_model_name": "HBoxModel",
      "_view_count": null,
      "_view_module": "@jupyter-widgets/controls",
      "_view_module_version": "1.5.0",
      "_view_name": "HBoxView",
      "box_style": "",
      "children": [
       "IPY_MODEL_eb5a83784e7b401797f1bbff9e1a5b9d",
       "IPY_MODEL_f749e7169095411eb0aafb8f17548bce",
       "IPY_MODEL_efda661d41a9411fbdea0c9e182a07e4"
      ],
      "layout": "IPY_MODEL_528d960cd299434ca9ada65c21dd9f54"
     }
    },
    "bbbd363c3e804bd99b5daf0f15fc124c": {
     "model_module": "@jupyter-widgets/controls",
     "model_module_version": "1.5.0",
     "model_name": "ProgressStyleModel",
     "state": {
      "_model_module": "@jupyter-widgets/controls",
      "_model_module_version": "1.5.0",
      "_model_name": "ProgressStyleModel",
      "_view_count": null,
      "_view_module": "@jupyter-widgets/base",
      "_view_module_version": "1.2.0",
      "_view_name": "StyleView",
      "bar_color": null,
      "description_width": ""
     }
    },
    "eb5a83784e7b401797f1bbff9e1a5b9d": {
     "model_module": "@jupyter-widgets/controls",
     "model_module_version": "1.5.0",
     "model_name": "HTMLModel",
     "state": {
      "_dom_classes": [],
      "_model_module": "@jupyter-widgets/controls",
      "_model_module_version": "1.5.0",
      "_model_name": "HTMLModel",
      "_view_count": null,
      "_view_module": "@jupyter-widgets/controls",
      "_view_module_version": "1.5.0",
      "_view_name": "HTMLView",
      "description": "",
      "description_tooltip": null,
      "layout": "IPY_MODEL_9fcf2a4f7c154cc0a7a1d90e64b76321",
      "placeholder": "​",
      "style": "IPY_MODEL_08178486ea0f4da3ad07c051dcc1e223",
      "value": "Processing: 100%"
     }
    },
    "efda661d41a9411fbdea0c9e182a07e4": {
     "model_module": "@jupyter-widgets/controls",
     "model_module_version": "1.5.0",
     "model_name": "HTMLModel",
     "state": {
      "_dom_classes": [],
      "_model_module": "@jupyter-widgets/controls",
      "_model_module_version": "1.5.0",
      "_model_name": "HTMLModel",
      "_view_count": null,
      "_view_module": "@jupyter-widgets/controls",
      "_view_module_version": "1.5.0",
      "_view_name": "HTMLView",
      "description": "",
      "description_tooltip": null,
      "layout": "IPY_MODEL_fa3ce14fe7d44e4db8c33948fd3e21b7",
      "placeholder": "​",
      "style": "IPY_MODEL_7ac4d73199764122a2f9d1494f5bd106",
      "value": " 65/65 [03:10&lt;00:00,  3.12s/it]"
     }
    },
    "f749e7169095411eb0aafb8f17548bce": {
     "model_module": "@jupyter-widgets/controls",
     "model_module_version": "1.5.0",
     "model_name": "FloatProgressModel",
     "state": {
      "_dom_classes": [],
      "_model_module": "@jupyter-widgets/controls",
      "_model_module_version": "1.5.0",
      "_model_name": "FloatProgressModel",
      "_view_count": null,
      "_view_module": "@jupyter-widgets/controls",
      "_view_module_version": "1.5.0",
      "_view_name": "ProgressView",
      "bar_style": "",
      "description": "",
      "description_tooltip": null,
      "layout": "IPY_MODEL_8759c34fad7e45f5ba3376c28d9ef32f",
      "max": 65,
      "min": 0,
      "orientation": "horizontal",
      "style": "IPY_MODEL_bbbd363c3e804bd99b5daf0f15fc124c",
      "value": 65
     }
    },
    "fa3ce14fe7d44e4db8c33948fd3e21b7": {
     "model_module": "@jupyter-widgets/base",
     "model_module_version": "1.2.0",
     "model_name": "LayoutModel",
     "state": {
      "_model_module": "@jupyter-widgets/base",
      "_model_module_version": "1.2.0",
      "_model_name": "LayoutModel",
      "_view_count": null,
      "_view_module": "@jupyter-widgets/base",
      "_view_module_version": "1.2.0",
      "_view_name": "LayoutView",
      "align_content": null,
      "align_items": null,
      "align_self": null,
      "border": null,
      "bottom": null,
      "display": null,
      "flex": null,
      "flex_flow": null,
      "grid_area": null,
      "grid_auto_columns": null,
      "grid_auto_flow": null,
      "grid_auto_rows": null,
      "grid_column": null,
      "grid_gap": null,
      "grid_row": null,
      "grid_template_areas": null,
      "grid_template_columns": null,
      "grid_template_rows": null,
      "height": null,
      "justify_content": null,
      "justify_items": null,
      "left": null,
      "margin": null,
      "max_height": null,
      "max_width": null,
      "min_height": null,
      "min_width": null,
      "object_fit": null,
      "object_position": null,
      "order": null,
      "overflow": null,
      "overflow_x": null,
      "overflow_y": null,
      "padding": null,
      "right": null,
      "top": null,
      "visibility": null,
      "width": null
     }
    }
   }
  }
 },
 "nbformat": 4,
 "nbformat_minor": 4
}
